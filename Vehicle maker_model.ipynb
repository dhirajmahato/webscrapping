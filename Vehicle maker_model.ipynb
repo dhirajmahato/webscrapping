{
 "cells": [
  {
   "cell_type": "code",
   "execution_count": 3,
   "id": "89b0ed80-a914-4513-afa5-51d2ddcf825f",
   "metadata": {},
   "outputs": [
    {
     "name": "stdout",
     "output_type": "stream",
     "text": [
      "Saved scraped data to outputfinalnew2___1_scraped.csv\n",
      "Saved scraped data to outputfinalnew2___2_scraped.csv\n",
      "Saved scraped data to outputfinalnew2___3_scraped.csv\n"
     ]
    }
   ],
   "source": [
    "import pandas as pd\n",
    "import requests\n",
    "from bs4 import BeautifulSoup\n",
    "import time\n",
    "\n",
    "# Example function for scraping data from a website\n",
    "def scrape_data_from_website(registration_numbers):\n",
    "    scraped_data = {}\n",
    "    \n",
    "    for reg_num in registration_numbers:\n",
    "        # Example URL structure, replace with actual website URL\n",
    "        url = f\"https://www.carinfo.app/rc-details/{reg_num}\"\n",
    "        try:\n",
    "            response = requests.get(url)\n",
    "            if response.status_code == 200:\n",
    "                soup = BeautifulSoup(response.content, 'html.parser')\n",
    "                \n",
    "                # Example: Extract vehicle name from scraped HTML\n",
    "                div_element = soup.find(\"div\", {\"class\": \"MuiBox-root css-ig0coa\"})\n",
    "                if div_element:\n",
    "                    p_element = div_element.find(\"p\", {\"class\": \"MuiTypography-root MuiTypography-body1 css-1qt56zs\"})\n",
    "                    if p_element:\n",
    "                        vehicle_name = p_element.text.strip()\n",
    "                        scraped_data[reg_num] = vehicle_name\n",
    "                    else:\n",
    "                        scraped_data[reg_num] = \"Vehicle name not found\"\n",
    "                else:\n",
    "                    scraped_data[reg_num] = \"Div element not found\"\n",
    "            else:\n",
    "                scraped_data[reg_num] = f\"Failed to retrieve data, status code: {response.status_code}\"\n",
    "        except Exception as e:\n",
    "            scraped_data[reg_num] = f\"Failed to retrieve data: {str(e)}\"\n",
    "        \n",
    "        # Optional: Add a delay between requests to avoid overloading the server\n",
    "        time.sleep(1)\n",
    "    \n",
    "    return scraped_data\n",
    "\n",
    "def split_csv_and_scrape(input_file, output_prefix, chunk_size=500):\n",
    "    # Read the input CSV file\n",
    "    df = pd.read_csv(input_file)\n",
    "    \n",
    "    # Calculate the number of chunks\n",
    "    num_chunks = len(df) // chunk_size + (1 if len(df) % chunk_size != 0 else 0)\n",
    "    \n",
    "    for i in range(num_chunks):\n",
    "        # Get the start and end index for the current chunk\n",
    "        start_idx = i * chunk_size\n",
    "        end_idx = (i + 1) * chunk_size\n",
    "        \n",
    "        # Extract the chunk\n",
    "        chunk = df.iloc[start_idx:end_idx]\n",
    "        \n",
    "        # Perform scraping on the registration numbers in this chunk\n",
    "        registration_numbers = chunk['replaced_string'].tolist()\n",
    "        scraped_data = scrape_data_from_website(registration_numbers)\n",
    "        \n",
    "        # Define the output file name\n",
    "        output_file = f\"{output_prefix}_{i+1}_scraped.csv\"\n",
    "        \n",
    "        # Save the scraped data to a new CSV file\n",
    "        with open(output_file, 'w') as f:\n",
    "            for reg_num, data in scraped_data.items():\n",
    "                f.write(f\"{reg_num},{data}\\n\")\n",
    "        \n",
    "        print(f\"Saved scraped data to {output_file}\")\n",
    "\n",
    "# Example usage\n",
    "input_file = \"Vehiclefinal2.csv\"\n",
    "output_prefix = \"outputfinalnew2__\"\n",
    "split_csv_and_scrape(input_file, output_prefix)\n"
   ]
  },
  {
   "cell_type": "code",
   "execution_count": null,
   "id": "6878014e-e4ff-4ee9-b56e-64e33fe9c7d1",
   "metadata": {},
   "outputs": [],
   "source": []
  },
  {
   "cell_type": "code",
   "execution_count": null,
   "id": "4ce4155f-9c89-410b-a12b-d1a2e5df0cbb",
   "metadata": {},
   "outputs": [],
   "source": []
  }
 ],
 "metadata": {
  "kernelspec": {
   "display_name": "Python 3 (ipykernel)",
   "language": "python",
   "name": "python3"
  },
  "language_info": {
   "codemirror_mode": {
    "name": "ipython",
    "version": 3
   },
   "file_extension": ".py",
   "mimetype": "text/x-python",
   "name": "python",
   "nbconvert_exporter": "python",
   "pygments_lexer": "ipython3",
   "version": "3.12.1"
  }
 },
 "nbformat": 4,
 "nbformat_minor": 5
}
