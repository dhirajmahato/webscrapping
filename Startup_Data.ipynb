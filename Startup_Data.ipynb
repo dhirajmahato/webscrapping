{
 "cells": [
  {
   "cell_type": "code",
   "execution_count": 16,
   "metadata": {},
   "outputs": [
    {
     "name": "stdout",
     "output_type": "stream",
     "text": [
      "Requirement already satisfied: beautifulsoup4 in /home/godfather/Documents/Projects/PyProjects/virtenv3/lib/python3.10/site-packages (4.12.2)\n",
      "Requirement already satisfied: soupsieve>1.2 in /home/godfather/Documents/Projects/PyProjects/virtenv3/lib/python3.10/site-packages (from beautifulsoup4) (2.4.1)\n",
      "Requirement already satisfied: selenium in /home/godfather/Documents/Projects/PyProjects/virtenv3/lib/python3.10/site-packages (4.11.2)\n",
      "Requirement already satisfied: urllib3[socks]<3,>=1.26 in /home/godfather/Documents/Projects/PyProjects/virtenv3/lib/python3.10/site-packages (from selenium) (2.0.4)\n",
      "Requirement already satisfied: trio~=0.17 in /home/godfather/Documents/Projects/PyProjects/virtenv3/lib/python3.10/site-packages (from selenium) (0.22.2)\n",
      "Requirement already satisfied: trio-websocket~=0.9 in /home/godfather/Documents/Projects/PyProjects/virtenv3/lib/python3.10/site-packages (from selenium) (0.10.3)\n",
      "Requirement already satisfied: certifi>=2021.10.8 in /home/godfather/Documents/Projects/PyProjects/virtenv3/lib/python3.10/site-packages (from selenium) (2023.7.22)\n",
      "Requirement already satisfied: attrs>=20.1.0 in /home/godfather/Documents/Projects/PyProjects/virtenv3/lib/python3.10/site-packages (from trio~=0.17->selenium) (23.1.0)\n",
      "Requirement already satisfied: sortedcontainers in /home/godfather/Documents/Projects/PyProjects/virtenv3/lib/python3.10/site-packages (from trio~=0.17->selenium) (2.4.0)\n",
      "Requirement already satisfied: idna in /home/godfather/Documents/Projects/PyProjects/virtenv3/lib/python3.10/site-packages (from trio~=0.17->selenium) (3.4)\n",
      "Requirement already satisfied: outcome in /home/godfather/Documents/Projects/PyProjects/virtenv3/lib/python3.10/site-packages (from trio~=0.17->selenium) (1.2.0)\n",
      "Requirement already satisfied: sniffio in /home/godfather/Documents/Projects/PyProjects/virtenv3/lib/python3.10/site-packages (from trio~=0.17->selenium) (1.3.0)\n",
      "Requirement already satisfied: exceptiongroup>=1.0.0rc9 in /home/godfather/Documents/Projects/PyProjects/virtenv3/lib/python3.10/site-packages (from trio~=0.17->selenium) (1.1.2)\n",
      "Requirement already satisfied: wsproto>=0.14 in /home/godfather/Documents/Projects/PyProjects/virtenv3/lib/python3.10/site-packages (from trio-websocket~=0.9->selenium) (1.2.0)\n",
      "Requirement already satisfied: pysocks!=1.5.7,<2.0,>=1.5.6 in /home/godfather/Documents/Projects/PyProjects/virtenv3/lib/python3.10/site-packages (from urllib3[socks]<3,>=1.26->selenium) (1.7.1)\n",
      "Requirement already satisfied: h11<1,>=0.9.0 in /home/godfather/Documents/Projects/PyProjects/virtenv3/lib/python3.10/site-packages (from wsproto>=0.14->trio-websocket~=0.9->selenium) (0.14.0)\n"
     ]
    }
   ],
   "source": [
    "!pip install beautifulsoup4\n",
    "!pip install selenium"
   ]
  },
  {
   "cell_type": "code",
   "execution_count": 31,
   "metadata": {},
   "outputs": [],
   "source": [
    "import csv\n",
    "from bs4 import BeautifulSoup\n",
    "from selenium import webdriver\n",
    "\n",
    "# Initialize a Selenium WebDriver (e.g., Chrome)\n",
    "driver = webdriver.Chrome()\n",
    "\n",
    "# Navigate to the URL\n",
    "url = \"https://www.startupindia.gov.in/content/sih/en/search.html?roles=Startup&page=30\"\n",
    "\n",
    "csv_filename = \"startup_data.csv\"\n",
    "with open(csv_filename, mode='w', newline='', encoding='utf-8') as csv_file:\n",
    "    # Create a CSV writer\n",
    "    csv_writer = csv.writer(csv_file)\n",
    "\n",
    "    # Write header row\n",
    "    csv_writer.writerow([\"Startup Name\", \"Location\", \"Industry\"])\n",
    "    driver.get(url)\n",
    "    # Get the page source after waiting for potential dynamic content to load\n",
    "    html_content = driver.page_source\n",
    "    \n",
    "    \n",
    "    # Parse the HTML content using BeautifulSoup\n",
    "    soup = BeautifulSoup(html_content , \"html.parser\")\n",
    "    startup_container = soup.find('div', class_='clearfix padding-outer', id='persona-results')\n",
    "    \n",
    "    # Find all individual startup <div> elements\n",
    "    startup_divs = startup_container.find_all('div', class_='col-md-4 col-sm-6 col-space20')\n",
    "    \n",
    "    # Extract startup name, location, and sector # Iterate through each startup <div> element\n",
    "    for startup_div in startup_divs:\n",
    "        # Extract startup name\n",
    "        startup_name = startup_div.find('h3').text.strip()\n",
    "    \n",
    "        # Extract startup location\n",
    "        location_spans = startup_div.find_all('li', class_='location')     \n",
    "        location = \", \".join(span.get_text(strip=True) for span in location_spans)\n",
    "        # Extract startup industry/department\n",
    "        industry = startup_div.find('span', class_='dept').text.strip()\n",
    "        csv_writer.writerow([startup_name, location, industry])\n",
    "        # Print extracted information for each startup\n",
    "        print(\"Startup Name:\", startup_name)\n",
    "        #print(\"city:\", location_dict{\"1\"]})\n",
    "        print(\"Location:\", location)\n",
    "        print(\"Industry:\", industry)\n",
    "        print(\"----------------------------------\")\n",
    "    driver.quit()"
   ]
  },
  {
   "cell_type": "code",
   "execution_count": null,
   "metadata": {},
   "outputs": [],
   "source": []
  }
 ],
 "metadata": {
  "kernelspec": {
   "display_name": "Python 3 (ipykernel)",
   "language": "python",
   "name": "python3"
  },
  "language_info": {
   "codemirror_mode": {
    "name": "ipython",
    "version": 3
   },
   "file_extension": ".py",
   "mimetype": "text/x-python",
   "name": "python",
   "nbconvert_exporter": "python",
   "pygments_lexer": "ipython3",
   "version": "3.10.12"
  }
 },
 "nbformat": 4,
 "nbformat_minor": 4
}
